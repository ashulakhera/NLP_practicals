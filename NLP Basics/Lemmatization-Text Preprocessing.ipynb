{
 "cells": [
  {
   "cell_type": "markdown",
   "id": "75d265b8-a59e-495f-a97f-e116b3ae0030",
   "metadata": {},
   "source": [
    "### Wordnet Lemmatizer\n",
    "Lemmatization technique is like stemming. The output we will get after lemmatization is called ‘lemma’, which is a root word rather than root stem, the output of stemming. After lemmatization, we will be getting a valid word that means the same thing.\n",
    "\n",
    "NLTK provides WordNetLemmatizer class which is a thin wrapper around the wordnet corpus. This class uses morphy() function to the WordNet CorpusReader class to find a lemma. Let us understand it with an example −"
   ]
  },
  {
   "cell_type": "code",
   "execution_count": 23,
   "id": "9e57f13c-fd30-4e58-920e-4d01896d8d68",
   "metadata": {},
   "outputs": [],
   "source": [
    "### Q&A, Chatsbots, text summarization\n",
    "from nltk.stem import WordNetLemmatizer"
   ]
  },
  {
   "cell_type": "code",
   "execution_count": 3,
   "id": "1adc9816-604a-4a04-86f8-7fe737da705e",
   "metadata": {},
   "outputs": [],
   "source": [
    "lemmatizer=WordNetLemmatizer()"
   ]
  },
  {
   "cell_type": "code",
   "execution_count": 5,
   "id": "2da5a0ec-acf9-4b32-adc3-803be5e59008",
   "metadata": {},
   "outputs": [
    {
     "name": "stderr",
     "output_type": "stream",
     "text": [
      "[nltk_data] Downloading package wordnet to\n",
      "[nltk_data]     C:\\Users\\admin\\AppData\\Roaming\\nltk_data...\n"
     ]
    },
    {
     "data": {
      "text/plain": [
       "True"
      ]
     },
     "execution_count": 5,
     "metadata": {},
     "output_type": "execute_result"
    }
   ],
   "source": [
    "import nltk\n",
    "nltk.download('wordnet')"
   ]
  },
  {
   "cell_type": "code",
   "execution_count": 10,
   "id": "5e22cd89-50b1-4071-8d21-e1b8beb457a6",
   "metadata": {},
   "outputs": [
    {
     "data": {
      "text/plain": [
       "'go'"
      ]
     },
     "execution_count": 10,
     "metadata": {},
     "output_type": "execute_result"
    }
   ],
   "source": [
    "'''\n",
    "POS- Noun-n\n",
    "verb-v\n",
    "adjective-a\n",
    "adverb-r\n",
    "'''\n",
    "lemmatizer.lemmatize(\"going\",pos='v')"
   ]
  },
  {
   "cell_type": "code",
   "execution_count": 21,
   "id": "fa7032d0-01b3-4643-b6cb-adee186a0cae",
   "metadata": {},
   "outputs": [],
   "source": [
    "words=[\"eating\",\"eats\",\"eaten\",\"writing\",\"writes\",\"programming\",\"programs\",\"history\",\"finally\",\"finalized\",\"congratulations\",\"sitting\",\"goes\",\"fairly\",\"sportingly\"]"
   ]
  },
  {
   "cell_type": "code",
   "execution_count": 22,
   "id": "18e16ad4-8bc2-41b2-bed0-e4566c3caf5d",
   "metadata": {},
   "outputs": [
    {
     "name": "stdout",
     "output_type": "stream",
     "text": [
      "eating--------->eat\n",
      "eats--------->eat\n",
      "eaten--------->eat\n",
      "writing--------->write\n",
      "writes--------->write\n",
      "programming--------->program\n",
      "programs--------->program\n",
      "history--------->history\n",
      "finally--------->finally\n",
      "finalized--------->finalize\n",
      "congratulations--------->congratulations\n",
      "sitting--------->sit\n",
      "goes--------->go\n",
      "fairly--------->fairly\n",
      "sportingly--------->sportingly\n"
     ]
    }
   ],
   "source": [
    "for word in words:\n",
    "    print(word+\"--------->\"+lemmatizer.lemmatize(word,pos='v'))"
   ]
  }
 ],
 "metadata": {
  "kernelspec": {
   "display_name": "Python 3 (ipykernel)",
   "language": "python",
   "name": "python3"
  },
  "language_info": {
   "codemirror_mode": {
    "name": "ipython",
    "version": 3
   },
   "file_extension": ".py",
   "mimetype": "text/x-python",
   "name": "python",
   "nbconvert_exporter": "python",
   "pygments_lexer": "ipython3",
   "version": "3.11.7"
  }
 },
 "nbformat": 4,
 "nbformat_minor": 5
}

{
 "cells": [
  {
   "cell_type": "code",
   "execution_count": 1,
   "id": "923e1670-0a7d-465f-bb14-dcbb8b4412c5",
   "metadata": {},
   "outputs": [
    {
     "name": "stdout",
     "output_type": "stream",
     "text": [
      "Defaulting to user installation because normal site-packages is not writeable\n",
      "Requirement already satisfied: ginsim in c:\\users\\admin\\appdata\\roaming\\python\\python311\\site-packages (0.4.5)\n",
      "Requirement already satisfied: py4j in c:\\users\\admin\\appdata\\roaming\\python\\python311\\site-packages (from ginsim) (0.10.9.7)\n",
      "Requirement already satisfied: colomoto-jupyter>=0.6.3 in c:\\users\\admin\\appdata\\roaming\\python\\python311\\site-packages (from ginsim) (0.8.9)\n",
      "Requirement already satisfied: beautifulsoup4 in c:\\programdata\\anaconda3\\lib\\site-packages (from colomoto-jupyter>=0.6.3->ginsim) (4.12.2)\n",
      "Requirement already satisfied: boolean.py in c:\\users\\admin\\appdata\\roaming\\python\\python311\\site-packages (from colomoto-jupyter>=0.6.3->ginsim) (4.0)\n",
      "Requirement already satisfied: networkx>=2.0 in c:\\programdata\\anaconda3\\lib\\site-packages (from colomoto-jupyter>=0.6.3->ginsim) (3.1)\n",
      "Requirement already satisfied: pandas in c:\\users\\admin\\appdata\\roaming\\python\\python311\\site-packages (from colomoto-jupyter>=0.6.3->ginsim) (1.5.3)\n",
      "Requirement already satisfied: pydot in c:\\users\\admin\\appdata\\roaming\\python\\python311\\site-packages (from colomoto-jupyter>=0.6.3->ginsim) (3.0.2)\n",
      "Requirement already satisfied: soupsieve>1.2 in c:\\programdata\\anaconda3\\lib\\site-packages (from beautifulsoup4->colomoto-jupyter>=0.6.3->ginsim) (2.5)\n",
      "Requirement already satisfied: python-dateutil>=2.8.1 in c:\\programdata\\anaconda3\\lib\\site-packages (from pandas->colomoto-jupyter>=0.6.3->ginsim) (2.8.2)\n",
      "Requirement already satisfied: pytz>=2020.1 in c:\\programdata\\anaconda3\\lib\\site-packages (from pandas->colomoto-jupyter>=0.6.3->ginsim) (2023.3.post1)\n",
      "Requirement already satisfied: numpy>=1.21.0 in c:\\users\\admin\\appdata\\roaming\\python\\python311\\site-packages (from pandas->colomoto-jupyter>=0.6.3->ginsim) (1.24.4)\n",
      "Requirement already satisfied: pyparsing>=3.0.9 in c:\\programdata\\anaconda3\\lib\\site-packages (from pydot->colomoto-jupyter>=0.6.3->ginsim) (3.0.9)\n",
      "Requirement already satisfied: six>=1.5 in c:\\programdata\\anaconda3\\lib\\site-packages (from python-dateutil>=2.8.1->pandas->colomoto-jupyter>=0.6.3->ginsim) (1.16.0)\n"
     ]
    }
   ],
   "source": [
    "!pip install ginsim"
   ]
  },
  {
   "cell_type": "code",
   "execution_count": 4,
   "id": "facb9e20-f853-4c24-bcc4-30e27da1379a",
   "metadata": {},
   "outputs": [],
   "source": [
    "import gensim\n",
    "from gensim.models import Word2Vec\n",
    "from gensim.models import KeyedVectors"
   ]
  },
  {
   "cell_type": "code",
   "execution_count": null,
   "id": "b6c557db-9560-4d70-9c1b-9562a9e354ef",
   "metadata": {},
   "outputs": [],
   "source": [
    "import gensim.downloader as api\n",
    "\n",
    "wv = api.load('word2vec-google')"
   ]
  }
 ],
 "metadata": {
  "kernelspec": {
   "display_name": "Python 3 (ipykernel)",
   "language": "python",
   "name": "python3"
  },
  "language_info": {
   "codemirror_mode": {
    "name": "ipython",
    "version": 3
   },
   "file_extension": ".py",
   "mimetype": "text/x-python",
   "name": "python",
   "nbconvert_exporter": "python",
   "pygments_lexer": "ipython3",
   "version": "3.11.7"
  }
 },
 "nbformat": 4,
 "nbformat_minor": 5
}
